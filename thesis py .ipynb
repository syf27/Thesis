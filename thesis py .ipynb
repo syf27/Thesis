{
 "cells": [
  {
   "cell_type": "code",
   "execution_count": 1,
   "metadata": {},
   "outputs": [
    {
     "data": {
      "text/html": [
       "<div>\n",
       "<style scoped>\n",
       "    .dataframe tbody tr th:only-of-type {\n",
       "        vertical-align: middle;\n",
       "    }\n",
       "\n",
       "    .dataframe tbody tr th {\n",
       "        vertical-align: top;\n",
       "    }\n",
       "\n",
       "    .dataframe thead th {\n",
       "        text-align: right;\n",
       "    }\n",
       "</style>\n",
       "<table border=\"1\" class=\"dataframe\">\n",
       "  <thead>\n",
       "    <tr style=\"text-align: right;\">\n",
       "      <th></th>\n",
       "      <th>iid</th>\n",
       "      <th>id</th>\n",
       "      <th>gender</th>\n",
       "      <th>idg</th>\n",
       "      <th>condtn</th>\n",
       "      <th>wave</th>\n",
       "      <th>round</th>\n",
       "      <th>position</th>\n",
       "      <th>positin1</th>\n",
       "      <th>order</th>\n",
       "      <th>...</th>\n",
       "      <th>attr3_3</th>\n",
       "      <th>sinc3_3</th>\n",
       "      <th>intel3_3</th>\n",
       "      <th>fun3_3</th>\n",
       "      <th>amb3_3</th>\n",
       "      <th>attr5_3</th>\n",
       "      <th>sinc5_3</th>\n",
       "      <th>intel5_3</th>\n",
       "      <th>fun5_3</th>\n",
       "      <th>amb5_3</th>\n",
       "    </tr>\n",
       "  </thead>\n",
       "  <tbody>\n",
       "    <tr>\n",
       "      <th>0</th>\n",
       "      <td>1</td>\n",
       "      <td>1.0</td>\n",
       "      <td>0</td>\n",
       "      <td>1</td>\n",
       "      <td>1</td>\n",
       "      <td>1</td>\n",
       "      <td>10</td>\n",
       "      <td>7</td>\n",
       "      <td>NaN</td>\n",
       "      <td>4</td>\n",
       "      <td>...</td>\n",
       "      <td>5.0</td>\n",
       "      <td>7.0</td>\n",
       "      <td>7.0</td>\n",
       "      <td>7.0</td>\n",
       "      <td>7.0</td>\n",
       "      <td>NaN</td>\n",
       "      <td>NaN</td>\n",
       "      <td>NaN</td>\n",
       "      <td>NaN</td>\n",
       "      <td>NaN</td>\n",
       "    </tr>\n",
       "    <tr>\n",
       "      <th>1</th>\n",
       "      <td>1</td>\n",
       "      <td>1.0</td>\n",
       "      <td>0</td>\n",
       "      <td>1</td>\n",
       "      <td>1</td>\n",
       "      <td>1</td>\n",
       "      <td>10</td>\n",
       "      <td>7</td>\n",
       "      <td>NaN</td>\n",
       "      <td>3</td>\n",
       "      <td>...</td>\n",
       "      <td>5.0</td>\n",
       "      <td>7.0</td>\n",
       "      <td>7.0</td>\n",
       "      <td>7.0</td>\n",
       "      <td>7.0</td>\n",
       "      <td>NaN</td>\n",
       "      <td>NaN</td>\n",
       "      <td>NaN</td>\n",
       "      <td>NaN</td>\n",
       "      <td>NaN</td>\n",
       "    </tr>\n",
       "    <tr>\n",
       "      <th>2</th>\n",
       "      <td>1</td>\n",
       "      <td>1.0</td>\n",
       "      <td>0</td>\n",
       "      <td>1</td>\n",
       "      <td>1</td>\n",
       "      <td>1</td>\n",
       "      <td>10</td>\n",
       "      <td>7</td>\n",
       "      <td>NaN</td>\n",
       "      <td>10</td>\n",
       "      <td>...</td>\n",
       "      <td>5.0</td>\n",
       "      <td>7.0</td>\n",
       "      <td>7.0</td>\n",
       "      <td>7.0</td>\n",
       "      <td>7.0</td>\n",
       "      <td>NaN</td>\n",
       "      <td>NaN</td>\n",
       "      <td>NaN</td>\n",
       "      <td>NaN</td>\n",
       "      <td>NaN</td>\n",
       "    </tr>\n",
       "    <tr>\n",
       "      <th>3</th>\n",
       "      <td>1</td>\n",
       "      <td>1.0</td>\n",
       "      <td>0</td>\n",
       "      <td>1</td>\n",
       "      <td>1</td>\n",
       "      <td>1</td>\n",
       "      <td>10</td>\n",
       "      <td>7</td>\n",
       "      <td>NaN</td>\n",
       "      <td>5</td>\n",
       "      <td>...</td>\n",
       "      <td>5.0</td>\n",
       "      <td>7.0</td>\n",
       "      <td>7.0</td>\n",
       "      <td>7.0</td>\n",
       "      <td>7.0</td>\n",
       "      <td>NaN</td>\n",
       "      <td>NaN</td>\n",
       "      <td>NaN</td>\n",
       "      <td>NaN</td>\n",
       "      <td>NaN</td>\n",
       "    </tr>\n",
       "    <tr>\n",
       "      <th>4</th>\n",
       "      <td>1</td>\n",
       "      <td>1.0</td>\n",
       "      <td>0</td>\n",
       "      <td>1</td>\n",
       "      <td>1</td>\n",
       "      <td>1</td>\n",
       "      <td>10</td>\n",
       "      <td>7</td>\n",
       "      <td>NaN</td>\n",
       "      <td>7</td>\n",
       "      <td>...</td>\n",
       "      <td>5.0</td>\n",
       "      <td>7.0</td>\n",
       "      <td>7.0</td>\n",
       "      <td>7.0</td>\n",
       "      <td>7.0</td>\n",
       "      <td>NaN</td>\n",
       "      <td>NaN</td>\n",
       "      <td>NaN</td>\n",
       "      <td>NaN</td>\n",
       "      <td>NaN</td>\n",
       "    </tr>\n",
       "  </tbody>\n",
       "</table>\n",
       "<p>5 rows × 195 columns</p>\n",
       "</div>"
      ],
      "text/plain": [
       "   iid   id  gender  idg  condtn  wave  round  position  positin1  order  ...  \\\n",
       "0    1  1.0       0    1       1     1     10         7       NaN      4  ...   \n",
       "1    1  1.0       0    1       1     1     10         7       NaN      3  ...   \n",
       "2    1  1.0       0    1       1     1     10         7       NaN     10  ...   \n",
       "3    1  1.0       0    1       1     1     10         7       NaN      5  ...   \n",
       "4    1  1.0       0    1       1     1     10         7       NaN      7  ...   \n",
       "\n",
       "   attr3_3  sinc3_3  intel3_3  fun3_3  amb3_3  attr5_3  sinc5_3  intel5_3  \\\n",
       "0      5.0      7.0       7.0     7.0     7.0      NaN      NaN       NaN   \n",
       "1      5.0      7.0       7.0     7.0     7.0      NaN      NaN       NaN   \n",
       "2      5.0      7.0       7.0     7.0     7.0      NaN      NaN       NaN   \n",
       "3      5.0      7.0       7.0     7.0     7.0      NaN      NaN       NaN   \n",
       "4      5.0      7.0       7.0     7.0     7.0      NaN      NaN       NaN   \n",
       "\n",
       "   fun5_3  amb5_3  \n",
       "0     NaN     NaN  \n",
       "1     NaN     NaN  \n",
       "2     NaN     NaN  \n",
       "3     NaN     NaN  \n",
       "4     NaN     NaN  \n",
       "\n",
       "[5 rows x 195 columns]"
      ]
     },
     "execution_count": 1,
     "metadata": {},
     "output_type": "execute_result"
    }
   ],
   "source": [
    "import pandas as pd\n",
    "import matplotlib.pyplot as plt\n",
    "import seaborn as sns\n",
    "import numpy as np\n",
    "from scipy.stats import norm\n",
    "from sklearn.preprocessing import StandardScaler\n",
    "from sklearn import preprocessing\n",
    "import statsmodels.api as sm\n",
    "from scipy import stats\n",
    "from sklearn.pipeline import Pipeline\n",
    "import warnings\n",
    "from sklearn.preprocessing import StandardScaler\n",
    "from sklearn.decomposition import PCA\n",
    "from sklearn.covariance import EllipticEnvelope\n",
    "import statsmodels.api as sm\n",
    "from sklearn.model_selection import train_test_split\n",
    "from sklearn.linear_model import LogisticRegression\n",
    "from sklearn.ensemble import RandomForestClassifier\n",
    "from sklearn.ensemble import GradientBoostingClassifier\n",
    "from sklearn import metrics\n",
    "warnings.filterwarnings('ignore')\n",
    "train = pd.read_csv(\"SpeedDatingData.csv\", encoding=\"ISO-8859-1\") \n",
    "train.head() #yuck lots of objects and floats\n"
   ]
  },
  {
   "cell_type": "code",
   "execution_count": 2,
   "metadata": {},
   "outputs": [
    {
     "data": {
      "text/html": [
       "<div>\n",
       "<style scoped>\n",
       "    .dataframe tbody tr th:only-of-type {\n",
       "        vertical-align: middle;\n",
       "    }\n",
       "\n",
       "    .dataframe tbody tr th {\n",
       "        vertical-align: top;\n",
       "    }\n",
       "\n",
       "    .dataframe thead th {\n",
       "        text-align: right;\n",
       "    }\n",
       "</style>\n",
       "<table border=\"1\" class=\"dataframe\">\n",
       "  <thead>\n",
       "    <tr style=\"text-align: right;\">\n",
       "      <th></th>\n",
       "      <th>iid</th>\n",
       "      <th>gender</th>\n",
       "      <th>pid</th>\n",
       "      <th>match</th>\n",
       "      <th>int_corr</th>\n",
       "      <th>samerace</th>\n",
       "      <th>age_o</th>\n",
       "      <th>race_o</th>\n",
       "      <th>pf_o_att</th>\n",
       "      <th>pf_o_sin</th>\n",
       "      <th>...</th>\n",
       "      <th>fun3_1</th>\n",
       "      <th>intel3_1</th>\n",
       "      <th>dec</th>\n",
       "      <th>attr</th>\n",
       "      <th>sinc</th>\n",
       "      <th>intel</th>\n",
       "      <th>fun</th>\n",
       "      <th>like</th>\n",
       "      <th>prob</th>\n",
       "      <th>met</th>\n",
       "    </tr>\n",
       "  </thead>\n",
       "  <tbody>\n",
       "    <tr>\n",
       "      <th>1846</th>\n",
       "      <td>132</td>\n",
       "      <td>0</td>\n",
       "      <td>137.0</td>\n",
       "      <td>0</td>\n",
       "      <td>0.16</td>\n",
       "      <td>0</td>\n",
       "      <td>26.0</td>\n",
       "      <td>4.0</td>\n",
       "      <td>17.39</td>\n",
       "      <td>17.39</td>\n",
       "      <td>...</td>\n",
       "      <td>10.0</td>\n",
       "      <td>9.0</td>\n",
       "      <td>0</td>\n",
       "      <td>7.0</td>\n",
       "      <td>9.0</td>\n",
       "      <td>7.0</td>\n",
       "      <td>9.0</td>\n",
       "      <td>8.0</td>\n",
       "      <td>7.0</td>\n",
       "      <td>1.0</td>\n",
       "    </tr>\n",
       "    <tr>\n",
       "      <th>1847</th>\n",
       "      <td>132</td>\n",
       "      <td>0</td>\n",
       "      <td>138.0</td>\n",
       "      <td>0</td>\n",
       "      <td>0.34</td>\n",
       "      <td>1</td>\n",
       "      <td>32.0</td>\n",
       "      <td>2.0</td>\n",
       "      <td>20.00</td>\n",
       "      <td>20.00</td>\n",
       "      <td>...</td>\n",
       "      <td>10.0</td>\n",
       "      <td>9.0</td>\n",
       "      <td>0</td>\n",
       "      <td>8.0</td>\n",
       "      <td>8.0</td>\n",
       "      <td>8.0</td>\n",
       "      <td>8.0</td>\n",
       "      <td>8.0</td>\n",
       "      <td>5.0</td>\n",
       "      <td>2.0</td>\n",
       "    </tr>\n",
       "    <tr>\n",
       "      <th>1849</th>\n",
       "      <td>132</td>\n",
       "      <td>0</td>\n",
       "      <td>140.0</td>\n",
       "      <td>1</td>\n",
       "      <td>0.13</td>\n",
       "      <td>1</td>\n",
       "      <td>29.0</td>\n",
       "      <td>2.0</td>\n",
       "      <td>18.60</td>\n",
       "      <td>16.28</td>\n",
       "      <td>...</td>\n",
       "      <td>10.0</td>\n",
       "      <td>9.0</td>\n",
       "      <td>1</td>\n",
       "      <td>8.0</td>\n",
       "      <td>9.0</td>\n",
       "      <td>9.0</td>\n",
       "      <td>9.0</td>\n",
       "      <td>9.0</td>\n",
       "      <td>7.0</td>\n",
       "      <td>1.0</td>\n",
       "    </tr>\n",
       "    <tr>\n",
       "      <th>1850</th>\n",
       "      <td>132</td>\n",
       "      <td>0</td>\n",
       "      <td>141.0</td>\n",
       "      <td>0</td>\n",
       "      <td>0.05</td>\n",
       "      <td>0</td>\n",
       "      <td>28.0</td>\n",
       "      <td>3.0</td>\n",
       "      <td>20.83</td>\n",
       "      <td>20.83</td>\n",
       "      <td>...</td>\n",
       "      <td>10.0</td>\n",
       "      <td>9.0</td>\n",
       "      <td>0</td>\n",
       "      <td>5.0</td>\n",
       "      <td>8.0</td>\n",
       "      <td>8.0</td>\n",
       "      <td>8.0</td>\n",
       "      <td>7.0</td>\n",
       "      <td>7.0</td>\n",
       "      <td>1.0</td>\n",
       "    </tr>\n",
       "    <tr>\n",
       "      <th>1856</th>\n",
       "      <td>134</td>\n",
       "      <td>0</td>\n",
       "      <td>137.0</td>\n",
       "      <td>1</td>\n",
       "      <td>-0.10</td>\n",
       "      <td>0</td>\n",
       "      <td>26.0</td>\n",
       "      <td>4.0</td>\n",
       "      <td>17.39</td>\n",
       "      <td>17.39</td>\n",
       "      <td>...</td>\n",
       "      <td>8.0</td>\n",
       "      <td>8.0</td>\n",
       "      <td>1</td>\n",
       "      <td>8.0</td>\n",
       "      <td>9.0</td>\n",
       "      <td>7.0</td>\n",
       "      <td>9.0</td>\n",
       "      <td>9.0</td>\n",
       "      <td>6.0</td>\n",
       "      <td>2.0</td>\n",
       "    </tr>\n",
       "  </tbody>\n",
       "</table>\n",
       "<p>5 rows × 77 columns</p>\n",
       "</div>"
      ],
      "text/plain": [
       "      iid  gender    pid  match  int_corr  samerace  age_o  race_o  pf_o_att  \\\n",
       "1846  132       0  137.0      0      0.16         0   26.0     4.0     17.39   \n",
       "1847  132       0  138.0      0      0.34         1   32.0     2.0     20.00   \n",
       "1849  132       0  140.0      1      0.13         1   29.0     2.0     18.60   \n",
       "1850  132       0  141.0      0      0.05         0   28.0     3.0     20.83   \n",
       "1856  134       0  137.0      1     -0.10         0   26.0     4.0     17.39   \n",
       "\n",
       "      pf_o_sin  ...  fun3_1  intel3_1  dec  attr  sinc  intel  fun  like  \\\n",
       "1846     17.39  ...    10.0       9.0    0   7.0   9.0    7.0  9.0   8.0   \n",
       "1847     20.00  ...    10.0       9.0    0   8.0   8.0    8.0  8.0   8.0   \n",
       "1849     16.28  ...    10.0       9.0    1   8.0   9.0    9.0  9.0   9.0   \n",
       "1850     20.83  ...    10.0       9.0    0   5.0   8.0    8.0  8.0   7.0   \n",
       "1856     17.39  ...     8.0       8.0    1   8.0   9.0    7.0  9.0   9.0   \n",
       "\n",
       "      prob  met  \n",
       "1846   7.0  1.0  \n",
       "1847   5.0  2.0  \n",
       "1849   7.0  1.0  \n",
       "1850   7.0  1.0  \n",
       "1856   6.0  2.0  \n",
       "\n",
       "[5 rows x 77 columns]"
      ]
     },
     "execution_count": 2,
     "metadata": {},
     "output_type": "execute_result"
    }
   ],
   "source": [
    "# combining columns to make a column that has more rows in it\n",
    "dating_1 = train.iloc[:, 11:30]\n",
    "dating_2 = train.iloc[:, 30:35]\n",
    "dating_3 = train.iloc[:, 39:45]\n",
    "dating_4 = train.iloc[:, 45:68]\n",
    "dating_5 = train.iloc[:, 69:79]\n",
    "dating_6 = train.iloc[:, 87:91]\n",
    "dating_7 = train.iloc[:, 97:102]\n",
    "dating_8 = train.iloc[:, 104:107]\n",
    "#combining everything to make one big column\n",
    "date = pd.concat([train.iloc[:, 0],train.iloc[:, 2],dating_1,dating_2,dating_3,dating_4,dating_5,\n",
    "                  dating_6,dating_7,dating_8], axis=1)\n",
    "speed = date.dropna() #dropping missing values\n",
    "speed.head()"
   ]
  },
  {
   "cell_type": "code",
   "execution_count": 3,
   "metadata": {},
   "outputs": [],
   "source": [
    "\n",
    "women = speed[speed.gender == 0]\n",
    "men = speed[speed.gender == 1]"
   ]
  },
  {
   "cell_type": "code",
   "execution_count": 4,
   "metadata": {},
   "outputs": [
    {
     "data": {
      "text/html": [
       "<table class=\"simpletable\">\n",
       "<caption>OLS Regression Results</caption>\n",
       "<tr>\n",
       "  <th>Dep. Variable:</th>           <td>dec</td>       <th>  R-squared:         </th> <td>   0.569</td>\n",
       "</tr>\n",
       "<tr>\n",
       "  <th>Model:</th>                   <td>OLS</td>       <th>  Adj. R-squared:    </th> <td>   0.567</td>\n",
       "</tr>\n",
       "<tr>\n",
       "  <th>Method:</th>             <td>Least Squares</td>  <th>  F-statistic:       </th> <td>   393.0</td>\n",
       "</tr>\n",
       "<tr>\n",
       "  <th>Date:</th>             <td>Sun, 03 Nov 2019</td> <th>  Prob (F-statistic):</th>  <td>  0.00</td> \n",
       "</tr>\n",
       "<tr>\n",
       "  <th>Time:</th>                 <td>16:41:08</td>     <th>  Log-Likelihood:    </th> <td> -1290.8</td>\n",
       "</tr>\n",
       "<tr>\n",
       "  <th>No. Observations:</th>      <td>  2394</td>      <th>  AIC:               </th> <td>   2598.</td>\n",
       "</tr>\n",
       "<tr>\n",
       "  <th>Df Residuals:</th>          <td>  2386</td>      <th>  BIC:               </th> <td>   2644.</td>\n",
       "</tr>\n",
       "<tr>\n",
       "  <th>Df Model:</th>              <td>     8</td>      <th>                     </th>     <td> </td>   \n",
       "</tr>\n",
       "<tr>\n",
       "  <th>Covariance Type:</th>      <td>nonrobust</td>    <th>                     </th>     <td> </td>   \n",
       "</tr>\n",
       "</table>\n",
       "<table class=\"simpletable\">\n",
       "<tr>\n",
       "      <td></td>        <th>coef</th>     <th>std err</th>      <th>t</th>      <th>P>|t|</th>  <th>[0.025</th>    <th>0.975]</th>  \n",
       "</tr>\n",
       "<tr>\n",
       "  <th>attr</th>     <td>    0.0580</td> <td>    0.006</td> <td>   10.164</td> <td> 0.000</td> <td>    0.047</td> <td>    0.069</td>\n",
       "</tr>\n",
       "<tr>\n",
       "  <th>sinc</th>     <td>   -0.0154</td> <td>    0.007</td> <td>   -2.335</td> <td> 0.020</td> <td>   -0.028</td> <td>   -0.002</td>\n",
       "</tr>\n",
       "<tr>\n",
       "  <th>intel</th>    <td>   -0.0484</td> <td>    0.007</td> <td>   -7.055</td> <td> 0.000</td> <td>   -0.062</td> <td>   -0.035</td>\n",
       "</tr>\n",
       "<tr>\n",
       "  <th>fun</th>      <td>    0.0174</td> <td>    0.006</td> <td>    2.806</td> <td> 0.005</td> <td>    0.005</td> <td>    0.029</td>\n",
       "</tr>\n",
       "<tr>\n",
       "  <th>like</th>     <td>    0.0857</td> <td>    0.007</td> <td>   11.980</td> <td> 0.000</td> <td>    0.072</td> <td>    0.100</td>\n",
       "</tr>\n",
       "<tr>\n",
       "  <th>int_corr</th> <td>   -0.0188</td> <td>    0.029</td> <td>   -0.647</td> <td> 0.518</td> <td>   -0.076</td> <td>    0.038</td>\n",
       "</tr>\n",
       "<tr>\n",
       "  <th>pf_o_sha</th> <td>   -0.0054</td> <td>    0.001</td> <td>   -3.939</td> <td> 0.000</td> <td>   -0.008</td> <td>   -0.003</td>\n",
       "</tr>\n",
       "<tr>\n",
       "  <th>race</th>     <td>   -0.0143</td> <td>    0.006</td> <td>   -2.296</td> <td> 0.022</td> <td>   -0.027</td> <td>   -0.002</td>\n",
       "</tr>\n",
       "</table>\n",
       "<table class=\"simpletable\">\n",
       "<tr>\n",
       "  <th>Omnibus:</th>       <td>3403.202</td> <th>  Durbin-Watson:     </th> <td>   1.594</td>\n",
       "</tr>\n",
       "<tr>\n",
       "  <th>Prob(Omnibus):</th>  <td> 0.000</td>  <th>  Jarque-Bera (JB):  </th> <td> 166.757</td>\n",
       "</tr>\n",
       "<tr>\n",
       "  <th>Skew:</th>           <td> 0.157</td>  <th>  Prob(JB):          </th> <td>6.15e-37</td>\n",
       "</tr>\n",
       "<tr>\n",
       "  <th>Kurtosis:</th>       <td> 1.746</td>  <th>  Cond. No.          </th> <td>    68.4</td>\n",
       "</tr>\n",
       "</table><br/><br/>Warnings:<br/>[1] Standard Errors assume that the covariance matrix of the errors is correctly specified."
      ],
      "text/plain": [
       "<class 'statsmodels.iolib.summary.Summary'>\n",
       "\"\"\"\n",
       "                            OLS Regression Results                            \n",
       "==============================================================================\n",
       "Dep. Variable:                    dec   R-squared:                       0.569\n",
       "Model:                            OLS   Adj. R-squared:                  0.567\n",
       "Method:                 Least Squares   F-statistic:                     393.0\n",
       "Date:                Sun, 03 Nov 2019   Prob (F-statistic):               0.00\n",
       "Time:                        16:41:08   Log-Likelihood:                -1290.8\n",
       "No. Observations:                2394   AIC:                             2598.\n",
       "Df Residuals:                    2386   BIC:                             2644.\n",
       "Df Model:                           8                                         \n",
       "Covariance Type:            nonrobust                                         \n",
       "==============================================================================\n",
       "                 coef    std err          t      P>|t|      [0.025      0.975]\n",
       "------------------------------------------------------------------------------\n",
       "attr           0.0580      0.006     10.164      0.000       0.047       0.069\n",
       "sinc          -0.0154      0.007     -2.335      0.020      -0.028      -0.002\n",
       "intel         -0.0484      0.007     -7.055      0.000      -0.062      -0.035\n",
       "fun            0.0174      0.006      2.806      0.005       0.005       0.029\n",
       "like           0.0857      0.007     11.980      0.000       0.072       0.100\n",
       "int_corr      -0.0188      0.029     -0.647      0.518      -0.076       0.038\n",
       "pf_o_sha      -0.0054      0.001     -3.939      0.000      -0.008      -0.003\n",
       "race          -0.0143      0.006     -2.296      0.022      -0.027      -0.002\n",
       "==============================================================================\n",
       "Omnibus:                     3403.202   Durbin-Watson:                   1.594\n",
       "Prob(Omnibus):                  0.000   Jarque-Bera (JB):              166.757\n",
       "Skew:                           0.157   Prob(JB):                     6.15e-37\n",
       "Kurtosis:                       1.746   Cond. No.                         68.4\n",
       "==============================================================================\n",
       "\n",
       "Warnings:\n",
       "[1] Standard Errors assume that the covariance matrix of the errors is correctly specified.\n",
       "\"\"\""
      ]
     },
     "execution_count": 4,
     "metadata": {},
     "output_type": "execute_result"
    }
   ],
   "source": [
    "X_ols = speed[['attr','sinc','intel','fun','like','int_corr','pf_o_sha','race']]\n",
    "y_ols = speed.dec\n",
    "traits = sm.OLS(y_ols, X_ols)\n",
    "results_traits = traits.fit()\n",
    "results_traits.summary()"
   ]
  },
  {
   "cell_type": "code",
   "execution_count": 158,
   "metadata": {},
   "outputs": [],
   "source": [
    "#full model # 410\n",
    "X=women[['int_corr' , 'samerace' , 'age_o' , 'race_o' , 'pf_o_att' ,'pf_o_sin','pf_o_int','pf_o_fun','pf_o_amb','pf_o_sha','attr_o','sinc_o','intel_o','fun_o','amb_o','met_o','age' , 'race','imprace','imprelig','goal','date','go_out','sports','tvsports','exercise', 'dining','museums','art','hiking','gaming','clubbing','reading','tv','theater','movies','concerts','music','shopping','yoga','attr1_1','sinc1_1','intel1_1','fun1_1','amb1_1','attr3_1','sinc3_1','fun3_1','intel3_1', 'dec' ,'attr','sinc','intel','fun' ,'met']]\n",
    "y=women['dec_o']\n",
    "X_train, X_test, y_train, y_test = train_test_split(X, y, test_size=0.20, random_state=10, stratify=y)"
   ]
  },
  {
   "cell_type": "code",
   "execution_count": 159,
   "metadata": {},
   "outputs": [
    {
     "name": "stdout",
     "output_type": "stream",
     "text": [
      "Training Accuracy: 0.7627551020408163\n",
      "Validation Accuracy: 0.7050847457627119\n"
     ]
    }
   ],
   "source": [
    "# logistic regression classification model\n",
    "model = LogisticRegression(random_state=43)\n",
    "lrc = model.fit(X_train, y_train)\n",
    "predict_train_lrc = lrc.predict(X_train)\n",
    "predict_test_lrc = lrc.predict(X_test)\n",
    "print('Training Accuracy:', metrics.accuracy_score(y_train, predict_train_lrc))\n",
    "print('Validation Accuracy:', metrics.accuracy_score(y_test, predict_test_lrc))"
   ]
  },
  {
   "cell_type": "code",
   "execution_count": 195,
   "metadata": {},
   "outputs": [],
   "source": [
    "#selected model \n",
    "X=women[['int_corr' ,'pf_o_att', 'pf_o_sin', 'pf_o_int' ,'pf_o_fun', 'pf_o_sha' ,'attr_o', 'intel_o', 'fun_o', 'amb_o' ,'shar_o', 'met_o', 'race', 'goal', 'go_out', 'sports', 'exercise', 'clubbing', 'reading', 'movies' ,'concerts' , 'attr' ,'sinc'  ,'met']]\n",
    "y=women['dec_o']\n",
    "X_train, X_test, y_train, y_test = train_test_split(X, y, test_size=0.20, random_state=10, stratify=y)"
   ]
  },
  {
   "cell_type": "code",
   "execution_count": 196,
   "metadata": {},
   "outputs": [
    {
     "name": "stdout",
     "output_type": "stream",
     "text": [
      "Training Accuracy: 0.7397959183673469\n",
      "Validation Accuracy: 0.735593220338983\n"
     ]
    }
   ],
   "source": [
    "# logistic regression classification model\n",
    "model = LogisticRegression(random_state=43)\n",
    "lrc = model.fit(X_train, y_train)\n",
    "predict_train_lrc = lrc.predict(X_train)\n",
    "predict_test_lrc = lrc.predict(X_test)\n",
    "print('Training Accuracy:', metrics.accuracy_score(y_train, predict_train_lrc))\n",
    "print('Validation Accuracy:', metrics.accuracy_score(y_test, predict_test_lrc))"
   ]
  },
  {
   "cell_type": "code",
   "execution_count": 223,
   "metadata": {},
   "outputs": [],
   "source": [
    "#full model # 410\n",
    "X=women[['int_corr' , 'samerace' , 'age_o' , 'race_o' , 'pf_o_att' ,'pf_o_sin','pf_o_int','pf_o_fun','pf_o_amb','pf_o_sha','attr_o','sinc_o','intel_o','fun_o','amb_o','met_o','age' , 'race','imprace','imprelig','goal','date','go_out','sports','tvsports','exercise', 'dining','museums','art','hiking','gaming','clubbing','reading','tv','theater','movies','concerts','music','shopping','yoga','attr1_1','sinc1_1','intel1_1','fun1_1','amb1_1','attr3_1','sinc3_1','fun3_1','intel3_1', 'dec' ,'attr','sinc','intel','fun' ,'met']]\n",
    "y=women['dec_o']\n",
    "X_train, X_test, y_train, y_test = train_test_split(X, y, test_size=0.20, random_state=10, stratify=y)"
   ]
  },
  {
   "cell_type": "code",
   "execution_count": 228,
   "metadata": {},
   "outputs": [
    {
     "name": "stdout",
     "output_type": "stream",
     "text": [
      "Training Accuracy: 0.9770408163265306\n",
      "Validation Accuracy: 0.7932203389830509\n"
     ]
    }
   ],
   "source": [
    "#RF\n",
    "model = RandomForestClassifier(bootstrap=True, class_weight=None, criterion='gini',\n",
    "            max_depth = 9 , max_features='auto', max_leaf_nodes=None,\n",
    "            min_impurity_decrease=0.0, min_impurity_split=None,\n",
    "            min_samples_leaf=1, min_samples_split=2,\n",
    "            min_weight_fraction_leaf=0.0, n_estimators=410, n_jobs=1,\n",
    "            oob_score=False, random_state=43, verbose=0,\n",
    "            warm_start=False)\n",
    "rf_model = model.fit(X_train, y_train)\n",
    "predict_train_rf = rf_model.predict(X_train)\n",
    "predict_test_rf = rf_model.predict(X_test)\n",
    "print('Training Accuracy:', metrics.accuracy_score(y_train, predict_train_rf))\n",
    "print('Validation Accuracy:', metrics.accuracy_score(y_test, predict_test_rf))"
   ]
  },
  {
   "cell_type": "code",
   "execution_count": 229,
   "metadata": {},
   "outputs": [
    {
     "data": {
      "text/plain": [
       "[('int_corr', 0.02906873479742661),\n",
       " ('samerace', 0.005834740813576151),\n",
       " ('age_o', 0.027879959525163374),\n",
       " ('race_o', 0.01283403253945187),\n",
       " ('pf_o_att', 0.03138271070034396),\n",
       " ('pf_o_sin', 0.027825504300405653),\n",
       " ('pf_o_int', 0.0292669904745193),\n",
       " ('pf_o_fun', 0.03368803435412072),\n",
       " ('pf_o_amb', 0.023266308822808862),\n",
       " ('pf_o_sha', 0.028984445874225464),\n",
       " ('attr_o', 0.14955435954160076),\n",
       " ('sinc_o', 0.025323640805980006),\n",
       " ('intel_o', 0.022925602091755953),\n",
       " ('fun_o', 0.09161537469086702),\n",
       " ('amb_o', 0.02638459587870418),\n",
       " ('met_o', 0.0019071330649702675),\n",
       " ('age', 0.013386031306220278),\n",
       " ('race', 0.0069340645527906156),\n",
       " ('imprace', 0.010077570035225154),\n",
       " ('imprelig', 0.012272463788663967),\n",
       " ('goal', 0.008991373726487029),\n",
       " ('date', 0.008345353530440566),\n",
       " ('go_out', 0.007502599887582212),\n",
       " ('sports', 0.011233549772832564),\n",
       " ('tvsports', 0.011128529331402095),\n",
       " ('exercise', 0.015213822194901264),\n",
       " ('dining', 0.0075208126462473915),\n",
       " ('museums', 0.008964577778726253),\n",
       " ('art', 0.009575101834874691),\n",
       " ('hiking', 0.0186838693361496),\n",
       " ('gaming', 0.010431084588796219),\n",
       " ('clubbing', 0.010989169402076658),\n",
       " ('reading', 0.007728681993358405),\n",
       " ('tv', 0.010959199244260164),\n",
       " ('theater', 0.015420164600419494),\n",
       " ('movies', 0.007857835304239702),\n",
       " ('concerts', 0.009826934026093699),\n",
       " ('music', 0.010740554343363221),\n",
       " ('shopping', 0.009282718854813923),\n",
       " ('yoga', 0.010060662763626977),\n",
       " ('attr1_1', 0.014285935018614434),\n",
       " ('sinc1_1', 0.0121592259408437),\n",
       " ('intel1_1', 0.011124239341962733),\n",
       " ('fun1_1', 0.013105531945710602),\n",
       " ('amb1_1', 0.014036887563575977),\n",
       " ('attr3_1', 0.007433565241345314),\n",
       " ('sinc3_1', 0.00766816574965803),\n",
       " ('fun3_1', 0.008000803583936922),\n",
       " ('intel3_1', 0.010158953155747774),\n",
       " ('dec', 0.0039633504204678385),\n",
       " ('attr', 0.021571634068093332),\n",
       " ('sinc', 0.01763654130286739),\n",
       " ('intel', 0.015264928681450714),\n",
       " ('fun', 0.015976121560394133),\n",
       " ('met', 0.006745223305818665)]"
      ]
     },
     "execution_count": 229,
     "metadata": {},
     "output_type": "execute_result"
    }
   ],
   "source": [
    "list(zip(X_train, model.feature_importances_))"
   ]
  },
  {
   "cell_type": "code",
   "execution_count": 230,
   "metadata": {},
   "outputs": [
    {
     "data": {
      "text/plain": [
       "[<matplotlib.lines.Line2D at 0x1c23c66470>]"
      ]
     },
     "execution_count": 230,
     "metadata": {},
     "output_type": "execute_result"
    },
    {
     "data": {
      "image/png": "[encoded data removed]",
      "text/plain": [
       "<Figure size 432x288 with 1 Axes>"
      ]
     },
     "metadata": {
      "needs_background": "light"
     },
     "output_type": "display_data"
    }
   ],
   "source": [
    "plt.plot(model.feature_importances_)"
   ]
  },
  {
   "cell_type": "code",
   "execution_count": 231,
   "metadata": {},
   "outputs": [
    {
     "name": "stdout",
     "output_type": "stream",
     "text": [
      "Training Accuracy: 0.9991496598639455\n",
      "Validation Accuracy: 0.823728813559322\n"
     ]
    }
   ],
   "source": [
    "# xgboost model\n",
    "model = GradientBoostingClassifier( max_depth = 3 ,n_estimators=450,learning_rate = 0.1,random_state=43)\n",
    "xgb_model = model.fit(X_train, y_train)\n",
    "predict_train_xgb = xgb_model.predict(X_train)\n",
    "predict_test_xgb = xgb_model.predict(X_test)\n",
    "print('Training Accuracy:', metrics.accuracy_score(y_train, predict_train_xgb))\n",
    "print('Validation Accuracy:', metrics.accuracy_score(y_test, predict_test_xgb))"
   ]
  },
  {
   "cell_type": "code",
   "execution_count": 232,
   "metadata": {},
   "outputs": [
    {
     "data": {
      "text/plain": [
       "[('int_corr', 0.03238066905579222),\n",
       " ('samerace', 0.00462639949969824),\n",
       " ('age_o', 0.03466682780685064),\n",
       " ('race_o', 0.031116095167861738),\n",
       " ('pf_o_att', 0.04776511189033239),\n",
       " ('pf_o_sin', 0.05095230379860967),\n",
       " ('pf_o_int', 0.05003812580732832),\n",
       " ('pf_o_fun', 0.04025196190062562),\n",
       " ('pf_o_amb', 0.028906879554259492),\n",
       " ('pf_o_sha', 0.04140947959585565),\n",
       " ('attr_o', 0.26647381704889245),\n",
       " ('sinc_o', 0.014717972920749327),\n",
       " ('intel_o', 0.019671562637699366),\n",
       " ('fun_o', 0.0929360009958484),\n",
       " ('amb_o', 0.008027323386644414),\n",
       " ('met_o', 0.0034648700986651742),\n",
       " ('age', 0.007783926761386303),\n",
       " ('race', 0.006011561493911393),\n",
       " ('imprace', 0.005158017664535263),\n",
       " ('imprelig', 0.010039840493353089),\n",
       " ('goal', 0.008264939210238862),\n",
       " ('date', 0.004524652133733377),\n",
       " ('go_out', 0.0021347795288953063),\n",
       " ('sports', 0.0036488966180479726),\n",
       " ('tvsports', 0.008080282274251362),\n",
       " ('exercise', 0.005430578822568714),\n",
       " ('dining', 0.00396961811994548),\n",
       " ('museums', 0.0027069308565804053),\n",
       " ('art', 0.0019616732579510916),\n",
       " ('hiking', 0.00610415516910715),\n",
       " ('gaming', 0.006498043787897192),\n",
       " ('clubbing', 0.008316724175194462),\n",
       " ('reading', 0.006359372458685664),\n",
       " ('tv', 0.005344125450422244),\n",
       " ('theater', 0.01301335524075867),\n",
       " ('movies', 0.005420422254750047),\n",
       " ('concerts', 0.0004471944878321934),\n",
       " ('music', 0.009390208607571667),\n",
       " ('shopping', 0.002726823698630453),\n",
       " ('yoga', 0.0038751744735828863),\n",
       " ('attr1_1', 0.009662894102474286),\n",
       " ('sinc1_1', 0.0071657621389226295),\n",
       " ('intel1_1', 0.00757103113063846),\n",
       " ('fun1_1', 0.004182602962288625),\n",
       " ('amb1_1', 0.005630155460516263),\n",
       " ('attr3_1', 0.0015547525597359273),\n",
       " ('sinc3_1', 0.002645727847906221),\n",
       " ('fun3_1', 0.010383517259715612),\n",
       " ('intel3_1', 0.003988502430215504),\n",
       " ('dec', 0.001306750129489368),\n",
       " ('attr', 0.012707735960031333),\n",
       " ('sinc', 0.011692396459285685),\n",
       " ('intel', 0.0063904210082891995),\n",
       " ('fun', 0.0047732095587165934),\n",
       " ('met', 0.005727842786229864)]"
      ]
     },
     "execution_count": 232,
     "metadata": {},
     "output_type": "execute_result"
    }
   ],
   "source": [
    "list(zip(X_train, model.feature_importances_))"
   ]
  },
  {
   "cell_type": "code",
   "execution_count": 233,
   "metadata": {},
   "outputs": [
    {
     "data": {
      "text/plain": [
       "[<matplotlib.lines.Line2D at 0x1c23944e80>]"
      ]
     },
     "execution_count": 233,
     "metadata": {},
     "output_type": "execute_result"
    },
    {
     "data": {
      "image/png": "[encoded data removed]",
      "text/plain": [
       "<Figure size 432x288 with 1 Axes>"
      ]
     },
     "metadata": {
      "needs_background": "light"
     },
     "output_type": "display_data"
    }
   ],
   "source": [
    "plt.plot(model.feature_importances_)"
   ]
  },
  {
   "cell_type": "code",
   "execution_count": 234,
   "metadata": {},
   "outputs": [],
   "source": [
    "#no interaction # 20\n",
    "X=women[['int_corr' , 'samerace' , 'age_o' , 'race_o' , 'pf_o_att' ,'pf_o_sin','pf_o_int','pf_o_fun','pf_o_amb','pf_o_sha','met_o','age' , 'race','imprace','imprelig','goal','date','go_out','sports','tvsports','exercise', 'dining','museums','art','hiking','gaming','clubbing','reading','tv','theater','movies','concerts','music','shopping','yoga','attr1_1','sinc1_1','intel1_1','fun1_1','amb1_1','attr3_1','sinc3_1','fun3_1','intel3_1' ,'met' ]]\n",
    "y=women['dec_o']\n",
    "X_train, X_test, y_train, y_test = train_test_split(X, y, test_size=0.20, random_state=10, stratify=y)"
   ]
  },
  {
   "cell_type": "code",
   "execution_count": 235,
   "metadata": {},
   "outputs": [
    {
     "name": "stdout",
     "output_type": "stream",
     "text": [
      "Training Accuracy: 0.6454081632653061\n",
      "Validation Accuracy: 0.5932203389830508\n"
     ]
    }
   ],
   "source": [
    "# logistic regression classification model\n",
    "model = LogisticRegression(random_state=43)\n",
    "lrc = model.fit(X_train, y_train)\n",
    "predict_train_lrc = lrc.predict(X_train)\n",
    "predict_test_lrc = lrc.predict(X_test)\n",
    "print('Training Accuracy:', metrics.accuracy_score(y_train, predict_train_lrc))\n",
    "print('Validation Accuracy:', metrics.accuracy_score(y_test, predict_test_lrc))"
   ]
  },
  {
   "cell_type": "code",
   "execution_count": 236,
   "metadata": {},
   "outputs": [],
   "source": [
    "#no interaction selected # 20\n",
    "X=women[['int_corr' , 'samerace' , 'age_o' , 'race_o' ,'pf_o_int','pf_o_fun','pf_o_sha','met_o','age' , 'race','imprelig','goal','date','sports','exercise', 'museums','gaming','clubbing','reading','theater','movies','concerts','music','yoga','amb1_1','attr3_1','intel3_1' ,'met']]\n",
    "y=women['dec_o']\n",
    "X_train, X_test, y_train, y_test = train_test_split(X, y, test_size=0.20, random_state=10, stratify=y)"
   ]
  },
  {
   "cell_type": "code",
   "execution_count": 237,
   "metadata": {},
   "outputs": [
    {
     "name": "stdout",
     "output_type": "stream",
     "text": [
      "Training Accuracy: 0.6139455782312925\n",
      "Validation Accuracy: 0.5457627118644067\n"
     ]
    }
   ],
   "source": [
    "# logistic regression classification model\n",
    "model = LogisticRegression(random_state=43)\n",
    "lrc = model.fit(X_train, y_train)\n",
    "predict_train_lrc = lrc.predict(X_train)\n",
    "predict_test_lrc = lrc.predict(X_test)\n",
    "print('Training Accuracy:', metrics.accuracy_score(y_train, predict_train_lrc))\n",
    "print('Validation Accuracy:', metrics.accuracy_score(y_test, predict_test_lrc))"
   ]
  },
  {
   "cell_type": "code",
   "execution_count": 238,
   "metadata": {},
   "outputs": [],
   "source": [
    "#no interaction # 20\n",
    "X=women[['int_corr' , 'samerace' , 'age_o' , 'race_o' , 'pf_o_att' ,'pf_o_sin','pf_o_int','pf_o_fun','pf_o_amb','pf_o_sha','met_o','age' , 'race','imprace','imprelig','goal','date','go_out','sports','tvsports','exercise', 'dining','museums','art','hiking','gaming','clubbing','reading','tv','theater','movies','concerts','music','shopping','yoga','attr1_1','sinc1_1','intel1_1','fun1_1','amb1_1','attr3_1','sinc3_1','fun3_1','intel3_1' ,'met' ]]\n",
    "y=women['dec_o']\n",
    "X_train, X_test, y_train, y_test = train_test_split(X, y, test_size=0.20, random_state=10, stratify=y)"
   ]
  },
  {
   "cell_type": "code",
   "execution_count": 251,
   "metadata": {},
   "outputs": [
    {
     "name": "stdout",
     "output_type": "stream",
     "text": [
      "Training Accuracy: 0.7899659863945578\n",
      "Validation Accuracy: 0.6576271186440678\n"
     ]
    }
   ],
   "source": [
    "#RF\n",
    "model = RandomForestClassifier(n_estimators=20, random_state=43,\n",
    "            max_depth=6)\n",
    "rf_model = model.fit(X_train, y_train)\n",
    "predict_train_rf = rf_model.predict(X_train)\n",
    "predict_test_rf = rf_model.predict(X_test)\n",
    "print('Training Accuracy:', metrics.accuracy_score(y_train, predict_train_rf))\n",
    "print('Validation Accuracy:', metrics.accuracy_score(y_test, predict_test_rf))"
   ]
  },
  {
   "cell_type": "code",
   "execution_count": 252,
   "metadata": {},
   "outputs": [
    {
     "data": {
      "text/plain": [
       "[('int_corr', 0.049526461151224346),\n",
       " ('samerace', 0.012681549122175636),\n",
       " ('age_o', 0.03541771688823283),\n",
       " ('race_o', 0.027403734656270808),\n",
       " ('pf_o_att', 0.04236773200746656),\n",
       " ('pf_o_sin', 0.04385609445229375),\n",
       " ('pf_o_int', 0.03468592004142636),\n",
       " ('pf_o_fun', 0.05727265359316536),\n",
       " ('pf_o_amb', 0.02975738904215517),\n",
       " ('pf_o_sha', 0.050744878170951135),\n",
       " ('met_o', 0.003045694915780164),\n",
       " ('age', 0.017302869727762255),\n",
       " ('race', 0.0069664761434756455),\n",
       " ('imprace', 0.01013201234755946),\n",
       " ('imprelig', 0.023557558973688816),\n",
       " ('goal', 0.008725181240945387),\n",
       " ('date', 0.011730349357610973),\n",
       " ('go_out', 0.008901026169185028),\n",
       " ('sports', 0.011436042242777441),\n",
       " ('tvsports', 0.02780358151092478),\n",
       " ('exercise', 0.03986968813834072),\n",
       " ('dining', 0.015160843026224053),\n",
       " ('museums', 0.01809474284485684),\n",
       " ('art', 0.019470576501400976),\n",
       " ('hiking', 0.05601807847891749),\n",
       " ('gaming', 0.02257185097207941),\n",
       " ('clubbing', 0.007928180734112462),\n",
       " ('reading', 0.010491794503466293),\n",
       " ('tv', 0.020020801687864936),\n",
       " ('theater', 0.03233819270098142),\n",
       " ('movies', 0.016492271177182362),\n",
       " ('concerts', 0.006658749276575791),\n",
       " ('music', 0.012975975809939446),\n",
       " ('shopping', 0.014404569627787703),\n",
       " ('yoga', 0.009187185818314788),\n",
       " ('attr1_1', 0.013946589598846315),\n",
       " ('sinc1_1', 0.015195102598880808),\n",
       " ('intel1_1', 0.02096304104784271),\n",
       " ('fun1_1', 0.018674989065420325),\n",
       " ('amb1_1', 0.0422385001281828),\n",
       " ('attr3_1', 0.01514586353140826),\n",
       " ('sinc3_1', 0.014110501813932853),\n",
       " ('fun3_1', 0.017946882164956064),\n",
       " ('intel3_1', 0.02116975950516629),\n",
       " ('met', 0.005610347492246989)]"
      ]
     },
     "execution_count": 252,
     "metadata": {},
     "output_type": "execute_result"
    }
   ],
   "source": [
    "list(zip(X_train, model.feature_importances_))"
   ]
  },
  {
   "cell_type": "code",
   "execution_count": 253,
   "metadata": {},
   "outputs": [
    {
     "data": {
      "text/plain": [
       "[<matplotlib.lines.Line2D at 0x1c235599b0>]"
      ]
     },
     "execution_count": 253,
     "metadata": {},
     "output_type": "execute_result"
    },
    {
     "data": {
      "image/png": "[encoded data removed]",
      "text/plain": [
       "<Figure size 432x288 with 1 Axes>"
      ]
     },
     "metadata": {
      "needs_background": "light"
     },
     "output_type": "display_data"
    }
   ],
   "source": [
    "plt.plot(model.feature_importances_)"
   ]
  },
  {
   "cell_type": "code",
   "execution_count": 266,
   "metadata": {},
   "outputs": [
    {
     "name": "stdout",
     "output_type": "stream",
     "text": [
      "Training Accuracy: 1.0\n",
      "Validation Accuracy: 0.7016949152542373\n"
     ]
    }
   ],
   "source": [
    "# xgboost model\n",
    "model = GradientBoostingClassifier( max_depth = 7 ,n_estimators=85,learning_rate = 0.15,random_state=43)\n",
    "xgb_model = model.fit(X_train, y_train)\n",
    "predict_train_xgb = xgb_model.predict(X_train)\n",
    "predict_test_xgb = xgb_model.predict(X_test)\n",
    "print('Training Accuracy:', metrics.accuracy_score(y_train, predict_train_xgb))\n",
    "print('Validation Accuracy:', metrics.accuracy_score(y_test, predict_test_xgb))"
   ]
  },
  {
   "cell_type": "code",
   "execution_count": 267,
   "metadata": {},
   "outputs": [
    {
     "data": {
      "text/plain": [
       "[('int_corr', 0.09694354146666823),\n",
       " ('samerace', 0.011993280984169975),\n",
       " ('age_o', 0.05994800425998787),\n",
       " ('race_o', 0.027515866026236714),\n",
       " ('pf_o_att', 0.06515873311761673),\n",
       " ('pf_o_sin', 0.05792221392681177),\n",
       " ('pf_o_int', 0.049565459895385904),\n",
       " ('pf_o_fun', 0.06150609060435874),\n",
       " ('pf_o_amb', 0.052587794646043594),\n",
       " ('pf_o_sha', 0.048616863133196714),\n",
       " ('met_o', 0.002450022236359496),\n",
       " ('age', 0.01661383593962953),\n",
       " ('race', 0.008980596778975041),\n",
       " ('imprace', 0.013229520666776663),\n",
       " ('imprelig', 0.011030653814524375),\n",
       " ('goal', 0.01575209221759195),\n",
       " ('date', 0.00937498756908566),\n",
       " ('go_out', 0.009970263884483056),\n",
       " ('sports', 0.011151219628300874),\n",
       " ('tvsports', 0.015317734325670834),\n",
       " ('exercise', 0.031565156754215076),\n",
       " ('dining', 0.017320075212895976),\n",
       " ('museums', 0.011015790456486485),\n",
       " ('art', 0.005186661235717458),\n",
       " ('hiking', 0.026147873801864677),\n",
       " ('gaming', 0.021094748745373045),\n",
       " ('clubbing', 0.011689705466255836),\n",
       " ('reading', 0.0062483782216139145),\n",
       " ('tv', 0.011920565586814421),\n",
       " ('theater', 0.015067289400149002),\n",
       " ('movies', 0.008729795572687236),\n",
       " ('concerts', 0.00832944321196482),\n",
       " ('music', 0.014578424223477606),\n",
       " ('shopping', 0.01310318243714033),\n",
       " ('yoga', 0.017085842610190458),\n",
       " ('attr1_1', 0.015743411625394364),\n",
       " ('sinc1_1', 0.01461754558086319),\n",
       " ('intel1_1', 0.012692601464934467),\n",
       " ('fun1_1', 0.01895411500314488),\n",
       " ('amb1_1', 0.022309903980026594),\n",
       " ('attr3_1', 0.005101105458666987),\n",
       " ('sinc3_1', 0.004791644870630689),\n",
       " ('fun3_1', 0.011109177490481856),\n",
       " ('intel3_1', 0.01996399434290791),\n",
       " ('met', 0.01000479212422899)]"
      ]
     },
     "execution_count": 267,
     "metadata": {},
     "output_type": "execute_result"
    }
   ],
   "source": [
    "list(zip(X_train, model.feature_importances_))"
   ]
  },
  {
   "cell_type": "code",
   "execution_count": 268,
   "metadata": {},
   "outputs": [
    {
     "data": {
      "text/plain": [
       "[<matplotlib.lines.Line2D at 0x1c23b09518>]"
      ]
     },
     "execution_count": 268,
     "metadata": {},
     "output_type": "execute_result"
    },
    {
     "data": {
      "image/png": "[encoded data removed]",
      "text/plain": [
       "<Figure size 432x288 with 1 Axes>"
      ]
     },
     "metadata": {
      "needs_background": "light"
     },
     "output_type": "display_data"
    }
   ],
   "source": [
    "plt.plot(model.feature_importances_)"
   ]
  },
  {
   "cell_type": "code",
   "execution_count": 12,
   "metadata": {},
   "outputs": [
    {
     "name": "stdout",
     "output_type": "stream",
     "text": [
      "Mean Absolute Error: 0.2\n",
      "Mean Squared Error: 0.2\n",
      "Root Mean Squared Error: 0.4472135954999579\n"
     ]
    }
   ],
   "source": [
    "from sklearn import metrics\n",
    "\n",
    "print('Mean Absolute Error:', metrics.mean_absolute_error(y_test, predict_test_rf))\n",
    "print('Mean Squared Error:', metrics.mean_squared_error(y_test, predict_test_rf))\n",
    "print('Root Mean Squared Error:', np.sqrt(metrics.mean_squared_error(y_test, predict_test_rf)))"
   ]
  },
  {
   "cell_type": "code",
   "execution_count": 13,
   "metadata": {},
   "outputs": [
    {
     "data": {
      "text/plain": [
       "15    0.002127\n",
       "49    0.004668\n",
       "54    0.005999\n",
       "1     0.006955\n",
       "17    0.007101\n",
       "22    0.007554\n",
       "46    0.008100\n",
       "26    0.008205\n",
       "45    0.008401\n",
       "35    0.008475\n",
       "47    0.008682\n",
       "32    0.008755\n",
       "21    0.008829\n",
       "28    0.009156\n",
       "20    0.009592\n",
       "27    0.009892\n",
       "18    0.010043\n",
       "31    0.010178\n",
       "38    0.010223\n",
       "48    0.010380\n",
       "36    0.010558\n",
       "37    0.010690\n",
       "30    0.011402\n",
       "39    0.011698\n",
       "23    0.011831\n",
       "24    0.012114\n",
       "19    0.012188\n",
       "33    0.012229\n",
       "43    0.012645\n",
       "41    0.012702\n",
       "42    0.012964\n",
       "34    0.013683\n",
       "44    0.013706\n",
       "16    0.013889\n",
       "25    0.014917\n",
       "3     0.014959\n",
       "40    0.015292\n",
       "29    0.017275\n",
       "52    0.018884\n",
       "53    0.019607\n",
       "51    0.019723\n",
       "50    0.022682\n",
       "12    0.024214\n",
       "11    0.025094\n",
       "8     0.025901\n",
       "14    0.026965\n",
       "5     0.029092\n",
       "2     0.030194\n",
       "6     0.030370\n",
       "9     0.030972\n",
       "4     0.032827\n",
       "7     0.035274\n",
       "0     0.036725\n",
       "13    0.075756\n",
       "10    0.117664\n",
       "dtype: float64"
      ]
     },
     "execution_count": 13,
     "metadata": {},
     "output_type": "execute_result"
    }
   ],
   "source": [
    "feature_imp = pd.Series(model.feature_importances_).sort_values()\n",
    "feature_imp"
   ]
  },
  {
   "cell_type": "code",
   "execution_count": 46,
   "metadata": {},
   "outputs": [
    {
     "data": {
      "text/plain": [
       "[('int_corr', 0.013038516373506783),\n",
       " ('samerace', 0.005527418959859836),\n",
       " ('age_o', 0.018106464749513697),\n",
       " ('race_o', 0.038169631603944806),\n",
       " ('pf_o_att', 0.0239108859568786),\n",
       " ('pf_o_sin', 0.03316378603014697),\n",
       " ('pf_o_int', 0.06032809683051909),\n",
       " ('pf_o_fun', 0.035273697471798336),\n",
       " ('pf_o_amb', 0.013901047403855206),\n",
       " ('pf_o_sha', 0.03973795446615946),\n",
       " ('attr_o', 0.4778767654673608),\n",
       " ('sinc_o', 0.005463867705922608),\n",
       " ('intel_o', 0.017659101803950635),\n",
       " ('fun_o', 0.1385575669938416),\n",
       " ('amb_o', 0.0009759125495122544),\n",
       " ('met_o', 0.0014254520075930202),\n",
       " ('age', 0.0014219358039394175),\n",
       " ('race', 0.003636556016022733),\n",
       " ('imprace', 0.00012653414249941627),\n",
       " ('imprelig', 0.01578010041560593),\n",
       " ('goal', 0.0),\n",
       " ('date', 0.0),\n",
       " ('go_out', 0.0),\n",
       " ('sports', 0.0),\n",
       " ('tvsports', 0.004852704985247467),\n",
       " ('exercise', 0.0),\n",
       " ('dining', 0.0),\n",
       " ('museums', 0.0),\n",
       " ('art', 0.0),\n",
       " ('hiking', 0.006769088668341059),\n",
       " ('gaming', 0.001618442602161931),\n",
       " ('clubbing', 0.0),\n",
       " ('reading', 0.004747904630707469),\n",
       " ('tv', 0.0),\n",
       " ('theater', 0.010869178301188621),\n",
       " ('movies', 0.0),\n",
       " ('concerts', 0.0),\n",
       " ('music', 0.006385626791520697),\n",
       " ('shopping', 0.0),\n",
       " ('yoga', 0.0),\n",
       " ('attr1_1', 0.0),\n",
       " ('sinc1_1', 0.0033578983779392144),\n",
       " ('intel1_1', 0.0),\n",
       " ('fun1_1', 0.0),\n",
       " ('amb1_1', 0.0025426747457797006),\n",
       " ('attr3_1', 0.0),\n",
       " ('sinc3_1', 0.0),\n",
       " ('fun3_1', 0.0),\n",
       " ('intel3_1', 0.002604833341017599),\n",
       " ('dec', 0.0),\n",
       " ('attr', 0.004423422900512527),\n",
       " ('sinc', 0.0),\n",
       " ('intel', 0.002027682819175519),\n",
       " ('fun', 0.001453919594258208),\n",
       " ('met', 0.0042653294897188575)]"
      ]
     },
     "execution_count": 46,
     "metadata": {},
     "output_type": "execute_result"
    }
   ],
   "source": [
    "list(zip(X_train, model.feature_importances_))"
   ]
  },
  {
   "cell_type": "code",
   "execution_count": 47,
   "metadata": {},
   "outputs": [
    {
     "data": {
      "text/plain": [
       "[<matplotlib.lines.Line2D at 0x1c233e1080>]"
      ]
     },
     "execution_count": 47,
     "metadata": {},
     "output_type": "execute_result"
    },
    {
     "data": {
      "image/png": "[encoded data removed]",
      "text/plain": [
       "<Figure size 432x288 with 1 Axes>"
      ]
     },
     "metadata": {
      "needs_background": "light"
     },
     "output_type": "display_data"
    }
   ],
   "source": [
    "plt.plot(model.feature_importances_)"
   ]
  },
  {
   "cell_type": "code",
   "execution_count": 106,
   "metadata": {},
   "outputs": [],
   "source": [
    "X=women[['int_corr'  ,  'pf_o_att' ,'pf_o_sin','pf_o_int','pf_o_fun','attr_o','fun_o','like_o','prob_o' ,'attr','sinc','intel','fun']]\n",
    "y=women['dec_o']\n",
    "X_train, X_test, y_train, y_test = train_test_split(X, y, test_size=0.20, random_state=10, stratify=y)"
   ]
  },
  {
   "cell_type": "code",
   "execution_count": 101,
   "metadata": {},
   "outputs": [],
   "source": [
    "X=women[['like_o','shar_o','attr']]\n",
    "y=women['dec_o']\n",
    "X_train, X_test, y_train, y_test = train_test_split(X, y, test_size=0.15, random_state=10, stratify=y)"
   ]
  },
  {
   "cell_type": "code",
   "execution_count": null,
   "metadata": {},
   "outputs": [],
   "source": [
    "model = RandomForestClassifier()\n",
    "rf_model = model.fit(X_train, y_train)\n",
    "predict_train_rf = rf_model.predict(X_train)\n",
    "predict_test_rf = rf_model.predict(X_test)\n",
    "print('Training Accuracy:', metrics.accuracy_score(y_train, predict_train_rf))\n",
    "print('Validation Accuracy:', metrics.accuracy_score(y_test, predict_test_rf))"
   ]
  },
  {
   "cell_type": "code",
   "execution_count": null,
   "metadata": {},
   "outputs": [],
   "source": []
  },
  {
   "cell_type": "code",
   "execution_count": 96,
   "metadata": {},
   "outputs": [
    {
     "name": "stdout",
     "output_type": "stream",
     "text": [
      "Training Accuracy: 0.7491496598639455\n",
      "Validation Accuracy: 0.6745762711864407\n"
     ]
    }
   ],
   "source": [
    "# xgboost model\n",
    "model = GradientBoostingClassifier( n_estimators=20)\n",
    "xgb_model = model.fit(X_train, y_train)\n",
    "predict_train_xgb = xgb_model.predict(X_train)\n",
    "predict_test_xgb = xgb_model.predict(X_test)\n",
    "print('Training Accuracy:', metrics.accuracy_score(y_train, predict_train_xgb))\n",
    "print('Validation Accuracy:', metrics.accuracy_score(y_test, predict_test_xgb))"
   ]
  },
  {
   "cell_type": "code",
   "execution_count": null,
   "metadata": {},
   "outputs": [],
   "source": []
  }
 ],
 "metadata": {
  "kernelspec": {
   "display_name": "Python (class0)",
   "language": "python",
   "name": "class0"
  },
  "language_info": {
   "codemirror_mode": {
    "name": "ipython",
    "version": 3
   },
   "file_extension": ".py",
   "mimetype": "text/x-python",
   "name": "python",
   "nbconvert_exporter": "python",
   "pygments_lexer": "ipython3",
   "version": "3.6.8"
  }
 },
 "nbformat": 4,
 "nbformat_minor": 2
}
